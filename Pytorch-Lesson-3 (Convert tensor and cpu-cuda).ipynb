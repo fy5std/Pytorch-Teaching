{
 "cells": [
  {
   "cell_type": "markdown",
   "metadata": {},
   "source": [
    "<h1 style=\"color:rgb(0, 0, 0);\">Pytorch Lesson-3</h1> \n",
    "\n",
    "<h3 style=\"color:rgb(0, 0, 255);\">   \n",
    "  <ol>\n",
    "      <li>Convert tensor-numpy-python list</li>\n",
    "      <li>Variable copy-share</li>\n",
    "      <li>Change cpu-cuda</li>\n",
    "    </ol>\n",
    "</h3>\n",
    "\n",
    "<img src=\"images/pytorch.jpg\" style=\"width:400px;height:200px\">\n",
    "\n",
    "We will learn the following:\n",
    "\n",
    "* from numpy to tensor\n",
    "* variable copy-share\n",
    "* change cpu-cuda\n",
    "* from python list to tensor\n",
    "* from tensor to get a python list or number\n",
    "* from tensor to numpy\n",
    "* convert respectively (tensor cuda - numpy - python list)\n",
    "\n",
    "<h3 style=\"color:rgb(0, 0, 0);\">Functions:</h3>\n",
    "\n",
    "* torch.from_numpy()\n",
    "* x.copy()\n",
    "* torch.cuda.is_available()\n",
    "* x.to('cuda:0')\n",
    "* x.to('cpu')\n",
    "* x.tolist()\n",
    "* x.numpy()\n",
    "* x.item()\n",
    "* torch.tensor([])\n",
    "* torch.FloatTensor([])\n",
    "* torch.as_tensor([])\n",
    "* np.array([])\n",
    "\n",
    "<p> <i> Good Luck !!! &#128525;</i> </p> \n"
   ]
  },
  {
   "cell_type": "code",
   "execution_count": 1,
   "metadata": {},
   "outputs": [],
   "source": [
    "import numpy as np\n",
    "import torch"
   ]
  },
  {
   "cell_type": "markdown",
   "metadata": {},
   "source": [
    "### from numpy to tensor"
   ]
  },
  {
   "cell_type": "code",
   "execution_count": 2,
   "metadata": {},
   "outputs": [
    {
     "name": "stdout",
     "output_type": "stream",
     "text": [
      "[[1. 2. 3. 4.]\n",
      " [2. 3. 4. 5.]\n",
      " [4. 5. 6. 7.]\n",
      " [5. 6. 7. 8.]]\n"
     ]
    },
    {
     "data": {
      "text/plain": [
       "dtype('float32')"
      ]
     },
     "execution_count": 2,
     "metadata": {},
     "output_type": "execute_result"
    }
   ],
   "source": [
    "x = np.array([[1,2,3,4], [2,3,4,5],\n",
    "              [4,5,6,7], [5,6,7,8]], dtype=np.float32)\n",
    "print(x)\n",
    "x.dtype"
   ]
  },
  {
   "cell_type": "code",
   "execution_count": 3,
   "metadata": {},
   "outputs": [
    {
     "name": "stdout",
     "output_type": "stream",
     "text": [
      "tensor([[1., 2., 3., 4.],\n",
      "        [2., 3., 4., 5.],\n",
      "        [4., 5., 6., 7.],\n",
      "        [5., 6., 7., 8.]])\n"
     ]
    },
    {
     "data": {
      "text/plain": [
       "torch.float32"
      ]
     },
     "execution_count": 3,
     "metadata": {},
     "output_type": "execute_result"
    }
   ],
   "source": [
    "y = torch.from_numpy(x) # share\n",
    "print(y)\n",
    "y.dtype"
   ]
  },
  {
   "cell_type": "markdown",
   "metadata": {},
   "source": [
    "### variable copy-share "
   ]
  },
  {
   "cell_type": "code",
   "execution_count": 4,
   "metadata": {},
   "outputs": [
    {
     "name": "stdout",
     "output_type": "stream",
     "text": [
      "[[ 1.  2.  3.  4.]\n",
      " [ 2.  3.  4.  5.]\n",
      " [ 4.  5. 99.  7.]\n",
      " [ 5.  6.  7.  8.]]\n",
      "tensor([[ 1.,  2.,  3.,  4.],\n",
      "        [ 2.,  3.,  4.,  5.],\n",
      "        [ 4.,  5., 99.,  7.],\n",
      "        [ 5.,  6.,  7.,  8.]])\n"
     ]
    }
   ],
   "source": [
    "x[2,2]=99 # change x variable\n",
    "print(x)\n",
    "print(y) # y is changing"
   ]
  },
  {
   "cell_type": "code",
   "execution_count": 5,
   "metadata": {},
   "outputs": [
    {
     "name": "stdout",
     "output_type": "stream",
     "text": [
      "tensor([[ 1.,  2.,  3.,  4.],\n",
      "        [ 2.,  3.,  4.,  5.],\n",
      "        [ 4.,  5., 99.,  7.],\n",
      "        [ 5.,  6.,  7.,  8.]])\n"
     ]
    },
    {
     "data": {
      "text/plain": [
       "torch.float32"
      ]
     },
     "execution_count": 5,
     "metadata": {},
     "output_type": "execute_result"
    }
   ],
   "source": [
    "y = torch.from_numpy(x.copy()) # copy\n",
    "print(y)\n",
    "y.dtype"
   ]
  },
  {
   "cell_type": "code",
   "execution_count": 6,
   "metadata": {},
   "outputs": [
    {
     "name": "stdout",
     "output_type": "stream",
     "text": [
      "[[ 1.  2.  3.  4.]\n",
      " [ 2.  3.  4.  5.]\n",
      " [ 4.  5. 88.  7.]\n",
      " [ 5.  6.  7.  8.]]\n",
      "tensor([[ 1.,  2.,  3.,  4.],\n",
      "        [ 2.,  3.,  4.,  5.],\n",
      "        [ 4.,  5., 99.,  7.],\n",
      "        [ 5.,  6.,  7.,  8.]])\n"
     ]
    }
   ],
   "source": [
    "x[2,2] = 88 # change x variable\n",
    "print(x)\n",
    "print(y) # y is not changing"
   ]
  },
  {
   "cell_type": "markdown",
   "metadata": {},
   "source": [
    "### change cpu-cuda"
   ]
  },
  {
   "cell_type": "code",
   "execution_count": 7,
   "metadata": {},
   "outputs": [
    {
     "name": "stdout",
     "output_type": "stream",
     "text": [
      "check device = cuda\n"
     ]
    }
   ],
   "source": [
    "# device config\n",
    "check_device = torch.device('cuda' if torch.cuda.is_available() else 'cpu')\n",
    "print(\"check device = \" + str(check_device))"
   ]
  },
  {
   "cell_type": "code",
   "execution_count": 8,
   "metadata": {},
   "outputs": [
    {
     "name": "stdout",
     "output_type": "stream",
     "text": [
      "tensor([[ 1.,  2.,  3.,  4.],\n",
      "        [ 2.,  3.,  4.,  5.],\n",
      "        [ 4.,  5., 99.,  7.],\n",
      "        [ 5.,  6.,  7.,  8.]])\n"
     ]
    },
    {
     "data": {
      "text/plain": [
       "device(type='cpu')"
      ]
     },
     "execution_count": 8,
     "metadata": {},
     "output_type": "execute_result"
    }
   ],
   "source": [
    "print(y)\n",
    "y.device"
   ]
  },
  {
   "cell_type": "code",
   "execution_count": 9,
   "metadata": {},
   "outputs": [
    {
     "data": {
      "text/plain": [
       "tensor([[ 1.,  2.,  3.,  4.],\n",
       "        [ 2.,  3.,  4.,  5.],\n",
       "        [ 4.,  5., 99.,  7.],\n",
       "        [ 5.,  6.,  7.,  8.]], device='cuda:0')"
      ]
     },
     "execution_count": 9,
     "metadata": {},
     "output_type": "execute_result"
    }
   ],
   "source": [
    "z = y.to('cuda:0')\n",
    "z"
   ]
  },
  {
   "cell_type": "code",
   "execution_count": 10,
   "metadata": {},
   "outputs": [
    {
     "data": {
      "text/plain": [
       "tensor([[  1.,   2.,   3.,   4.],\n",
       "        [  2., 100.,   4.,   5.],\n",
       "        [  4.,   5.,  99.,   7.],\n",
       "        [  5.,   6.,   7.,   8.]])"
      ]
     },
     "execution_count": 10,
     "metadata": {},
     "output_type": "execute_result"
    }
   ],
   "source": [
    "y[1,1]=100\n",
    "y"
   ]
  },
  {
   "cell_type": "code",
   "execution_count": 11,
   "metadata": {},
   "outputs": [
    {
     "data": {
      "text/plain": [
       "tensor([[ 1.,  2.,  3.,  4.],\n",
       "        [ 2.,  3.,  4.,  5.],\n",
       "        [ 4.,  5., 99.,  7.],\n",
       "        [ 5.,  6.,  7.,  8.]], device='cuda:0')"
      ]
     },
     "execution_count": 11,
     "metadata": {},
     "output_type": "execute_result"
    }
   ],
   "source": [
    "z"
   ]
  },
  {
   "cell_type": "code",
   "execution_count": 12,
   "metadata": {},
   "outputs": [
    {
     "name": "stdout",
     "output_type": "stream",
     "text": [
      "tensor([[ 1.,  2.,  3.,  4.],\n",
      "        [ 2.,  3.,  4.,  5.],\n",
      "        [ 4.,  5., 99.,  7.],\n",
      "        [ 5.,  6.,  7.,  8.]])\n"
     ]
    },
    {
     "data": {
      "text/plain": [
       "device(type='cpu')"
      ]
     },
     "execution_count": 12,
     "metadata": {},
     "output_type": "execute_result"
    }
   ],
   "source": [
    "c = z.to('cpu')\n",
    "print(c)\n",
    "c.device"
   ]
  },
  {
   "cell_type": "markdown",
   "metadata": {},
   "source": [
    "### from python list to tensor"
   ]
  },
  {
   "cell_type": "code",
   "execution_count": 13,
   "metadata": {},
   "outputs": [
    {
     "name": "stdout",
     "output_type": "stream",
     "text": [
      "[[1.0, 2.0, 3.0, 4.0], [5.0, 6.0, 7.0, 8.0], [9.0, 10.0, 11.0, 12.0]]\n"
     ]
    },
    {
     "data": {
      "text/plain": [
       "list"
      ]
     },
     "execution_count": 13,
     "metadata": {},
     "output_type": "execute_result"
    }
   ],
   "source": [
    "python_list = [[1.,2.,3.,4.],[5.,6.,7.,8.],[9.,10.,11.,12.]]\n",
    "print(python_list)\n",
    "type(python_list)"
   ]
  },
  {
   "cell_type": "code",
   "execution_count": 14,
   "metadata": {},
   "outputs": [
    {
     "name": "stdout",
     "output_type": "stream",
     "text": [
      "tensor([[ 1.,  2.,  3.,  4.],\n",
      "        [ 5.,  6.,  7.,  8.],\n",
      "        [ 9., 10., 11., 12.]])\n",
      "tensor([[ 1.,  2.,  3.,  4.],\n",
      "        [ 5.,  6.,  7.,  8.],\n",
      "        [ 9., 10., 11., 12.]])\n",
      "tensor([[ 1.,  2.,  3.,  4.],\n",
      "        [ 5.,  6.,  7.,  8.],\n",
      "        [ 9., 10., 11., 12.]])\n"
     ]
    }
   ],
   "source": [
    "w1 = torch.FloatTensor(python_list)\n",
    "w2 = torch.tensor(python_list)\n",
    "w3 = torch.as_tensor(python_list)\n",
    "print(w1)\n",
    "print(w2)\n",
    "print(w3)"
   ]
  },
  {
   "cell_type": "code",
   "execution_count": 15,
   "metadata": {},
   "outputs": [
    {
     "name": "stdout",
     "output_type": "stream",
     "text": [
      "[[99, 2.0, 3.0, 4.0], [5.0, 6.0, 7.0, 8.0], [9.0, 10.0, 11.0, 12.0]]\n",
      "tensor([[ 1.,  2.,  3.,  4.],\n",
      "        [ 5.,  6.,  7.,  8.],\n",
      "        [ 9., 10., 11., 12.]])\n",
      "tensor([[ 1.,  2.,  3.,  4.],\n",
      "        [ 5.,  6.,  7.,  8.],\n",
      "        [ 9., 10., 11., 12.]])\n",
      "tensor([[ 1.,  2.,  3.,  4.],\n",
      "        [ 5.,  6.,  7.,  8.],\n",
      "        [ 9., 10., 11., 12.]])\n"
     ]
    }
   ],
   "source": [
    "python_list[0][0] = 99\n",
    "print(python_list)\n",
    "print(w1)\n",
    "print(w2)\n",
    "print(w3)"
   ]
  },
  {
   "cell_type": "markdown",
   "metadata": {},
   "source": [
    "### from tensor to get a python list or number"
   ]
  },
  {
   "cell_type": "code",
   "execution_count": 16,
   "metadata": {},
   "outputs": [
    {
     "name": "stdout",
     "output_type": "stream",
     "text": [
      "tensor([[1., 2., 3., 4.],\n",
      "        [2., 3., 4., 5.],\n",
      "        [4., 5., 6., 7.],\n",
      "        [5., 6., 7., 8.]])\n",
      "[[1.0, 2.0, 3.0, 4.0], [2.0, 3.0, 4.0, 5.0], [4.0, 5.0, 6.0, 7.0], [5.0, 6.0, 7.0, 8.0]]\n"
     ]
    }
   ],
   "source": [
    "x = torch.tensor([[1., 2., 3., 4.],\n",
    "        [2., 3., 4., 5.],\n",
    "        [4., 5., 6., 7.],\n",
    "        [5., 6., 7., 8.]])\n",
    "print(x)\n",
    "print(x.tolist())"
   ]
  },
  {
   "cell_type": "code",
   "execution_count": 17,
   "metadata": {},
   "outputs": [
    {
     "name": "stdout",
     "output_type": "stream",
     "text": [
      "tensor(1.)\n",
      "1.0\n"
     ]
    }
   ],
   "source": [
    "print(x[0][0])\n",
    "print(x[0][0].item())"
   ]
  },
  {
   "cell_type": "code",
   "execution_count": 18,
   "metadata": {},
   "outputs": [
    {
     "name": "stdout",
     "output_type": "stream",
     "text": [
      "[[1.0, 2.0, 3.0, 4.0], [2.0, 3.0, 4.0, 5.0], [4.0, 5.0, 6.0, 7.0], [5.0, 6.0, 7.0, 8.0]]\n",
      "1.0\n"
     ]
    }
   ],
   "source": [
    "x = x.to('cuda:0')\n",
    "print(x.tolist())\n",
    "print(x[0][0].item())"
   ]
  },
  {
   "cell_type": "markdown",
   "metadata": {},
   "source": [
    "### from tensor to numpy"
   ]
  },
  {
   "cell_type": "code",
   "execution_count": 19,
   "metadata": {},
   "outputs": [
    {
     "data": {
      "text/plain": [
       "tensor([[1., 2., 3., 4.],\n",
       "        [2., 3., 4., 5.],\n",
       "        [4., 5., 6., 7.],\n",
       "        [5., 6., 7., 8.]])"
      ]
     },
     "execution_count": 19,
     "metadata": {},
     "output_type": "execute_result"
    }
   ],
   "source": [
    "x = torch.tensor([[1., 2., 3., 4.],\n",
    "        [2., 3., 4., 5.],\n",
    "        [4., 5., 6., 7.],\n",
    "        [5., 6., 7., 8.]])\n",
    "x"
   ]
  },
  {
   "cell_type": "code",
   "execution_count": 20,
   "metadata": {},
   "outputs": [
    {
     "name": "stdout",
     "output_type": "stream",
     "text": [
      "[[1. 2. 3. 4.]\n",
      " [2. 3. 4. 5.]\n",
      " [4. 5. 6. 7.]\n",
      " [5. 6. 7. 8.]]\n",
      "[[1. 2. 3. 4.]\n",
      " [2. 3. 4. 5.]\n",
      " [4. 5. 6. 7.]\n",
      " [5. 6. 7. 8.]]\n"
     ]
    }
   ],
   "source": [
    "y = x.numpy()  # share\n",
    "z = x.numpy().copy()  # copy\n",
    "print(y)\n",
    "print(z)"
   ]
  },
  {
   "cell_type": "code",
   "execution_count": 21,
   "metadata": {},
   "outputs": [
    {
     "name": "stdout",
     "output_type": "stream",
     "text": [
      "[[99.  2.  3.  4.]\n",
      " [ 2.  3.  4.  5.]\n",
      " [ 4.  5.  6.  7.]\n",
      " [ 5.  6.  7.  8.]]\n",
      "[[1. 2. 3. 4.]\n",
      " [2. 3. 4. 5.]\n",
      " [4. 5. 6. 7.]\n",
      " [5. 6. 7. 8.]]\n"
     ]
    }
   ],
   "source": [
    "x[0][0]=99\n",
    "print(y)\n",
    "print(z)"
   ]
  },
  {
   "cell_type": "code",
   "execution_count": 22,
   "metadata": {},
   "outputs": [
    {
     "data": {
      "text/plain": [
       "array(0.1, dtype=float32)"
      ]
     },
     "execution_count": 22,
     "metadata": {},
     "output_type": "execute_result"
    }
   ],
   "source": [
    "a = torch.tensor(0.1).numpy()\n",
    "a"
   ]
  },
  {
   "cell_type": "code",
   "execution_count": 23,
   "metadata": {},
   "outputs": [
    {
     "data": {
      "text/plain": [
       "array(0.1, dtype=float32)"
      ]
     },
     "execution_count": 23,
     "metadata": {},
     "output_type": "execute_result"
    }
   ],
   "source": [
    "b = torch.tensor(0.1).to('cuda:0').to('cpu').numpy()\n",
    "b"
   ]
  },
  {
   "cell_type": "code",
   "execution_count": 24,
   "metadata": {},
   "outputs": [
    {
     "data": {
      "text/plain": [
       "0.10000000149011612"
      ]
     },
     "execution_count": 24,
     "metadata": {},
     "output_type": "execute_result"
    }
   ],
   "source": [
    "torch.tensor(0.1).to('cuda:0').item()"
   ]
  },
  {
   "cell_type": "markdown",
   "metadata": {},
   "source": [
    "### convert respectively (tensor cuda - numpy - python list)"
   ]
  },
  {
   "cell_type": "code",
   "execution_count": 25,
   "metadata": {},
   "outputs": [
    {
     "name": "stdout",
     "output_type": "stream",
     "text": [
      "tensor([[1., 2., 3., 4.],\n",
      "        [2., 3., 4., 5.],\n",
      "        [4., 5., 6., 7.],\n",
      "        [5., 6., 7., 8.]], device='cuda:0')\n"
     ]
    }
   ],
   "source": [
    "x = torch.tensor([[1., 2., 3., 4.],\n",
    "        [2., 3., 4., 5.],\n",
    "        [4., 5., 6., 7.],\n",
    "        [5., 6., 7., 8.]],device='cuda')\n",
    "print(x)"
   ]
  },
  {
   "cell_type": "code",
   "execution_count": 26,
   "metadata": {},
   "outputs": [
    {
     "data": {
      "text/plain": [
       "[[1.0, 2.0, 3.0, 4.0],\n",
       " [2.0, 3.0, 4.0, 5.0],\n",
       " [4.0, 5.0, 6.0, 7.0],\n",
       " [5.0, 6.0, 7.0, 8.0]]"
      ]
     },
     "execution_count": 26,
     "metadata": {},
     "output_type": "execute_result"
    }
   ],
   "source": [
    "y = x.to('cpu').numpy().tolist()\n",
    "y"
   ]
  },
  {
   "cell_type": "code",
   "execution_count": 27,
   "metadata": {},
   "outputs": [
    {
     "name": "stdout",
     "output_type": "stream",
     "text": [
      "1.0\n"
     ]
    },
    {
     "data": {
      "text/plain": [
       "float"
      ]
     },
     "execution_count": 27,
     "metadata": {},
     "output_type": "execute_result"
    }
   ],
   "source": [
    "z = x[0,0].to('cpu').numpy().item()\n",
    "print(z)\n",
    "type(z)"
   ]
  },
  {
   "cell_type": "code",
   "execution_count": null,
   "metadata": {},
   "outputs": [],
   "source": []
  }
 ],
 "metadata": {
  "kernelspec": {
   "display_name": "Python 3",
   "language": "python",
   "name": "python3"
  },
  "language_info": {
   "codemirror_mode": {
    "name": "ipython",
    "version": 3
   },
   "file_extension": ".py",
   "mimetype": "text/x-python",
   "name": "python",
   "nbconvert_exporter": "python",
   "pygments_lexer": "ipython3",
   "version": "3.6.9"
  }
 },
 "nbformat": 4,
 "nbformat_minor": 4
}
