{
 "cells": [
  {
   "cell_type": "markdown",
   "metadata": {},
   "source": [
    "<a id=\"toc\"></a>\n",
    "# Table of Contents\n",
    "- [Model 1 Declarations](#Model_1_Declarations)\n",
    "- [Model 2 Declarations](#Model_2_Declarations)\n",
    "\n",
    "- [Running The Model 1](#Running_The_Model_1)\n",
    "- [Running The Model 2](#Running_The_Model_2)\n",
    "\n",
    "- [Submission 1](#Submission_1)\n",
    "- [Submission 2](#Submission_2)\n",
    "\n",
    "- [Appendix](#Appendix)"
   ]
  },
  {
   "cell_type": "markdown",
   "metadata": {},
   "source": [
    "<a id=\"Model_1_Declarations\"></a>\n",
    "# Model 1 Declarations"
   ]
  },
  {
   "cell_type": "markdown",
   "metadata": {},
   "source": [
    "## CPU ile yuz tespit ve model calistirma - Library facenet"
   ]
  }
