{
 "cells": [
  {
   "cell_type": "markdown",
   "metadata": {},
   "source": [
    "<h1 style=\"color:rgb(0, 0, 0);\">Pytorch Lesson-2</h1> \n",
    "\n",
    "<h3 style=\"color:rgb(0, 0, 255);\">Math functions with tensor</h3> \n",
    "\n",
    "<a href=\"https://pytorch.org/docs/stable/torch.html\">\n",
    "    more functions </a>\n",
    "\n",
    "<img src=\"images/pytorch.jpg\" style=\"width:400px;height:200px\">\n",
    "\n",
    "<h3 style=\"color:rgb(0, 0, 0);\">Functions:</h3>\n",
    "\n",
    "* torch.rand()\n",
    "* torch.randn()\n",
    "* torch.randint()\n",
    "* torch.zeros()\n",
    "* torch.ones()\n",
    "* torch.eye()\n",
    "* torch.numel()\n",
    "* torch.exp()\n",
    "* torch.mean()\n",
    "* torch.std()\n",
    "* torch.cumsum()\n",
    "* torch.view()\n",
    "* torch.reshape()\n",
    "* torch.add()\n",
    "* torch.sub()\n",
    "* torch.mul()\n",
    "* torch.div()\n",
    "\n",
    "\n",
    "<p> <i> Good Luck !!! &#128525;</i> </p> \n"
   ]
  },
  {
   "cell_type": "code",
   "execution_count": 1,
   "metadata": {},
   "outputs": [],
   "source": [
    "import torch"
   ]
  },
  {
   "cell_type": "code",
   "execution_count": 2,
   "metadata": {},
   "outputs": [
    {
     "name": "stdout",
     "output_type": "stream",
     "text": [
      "tensor([[0.3482, 0.0570, 0.8897, 0.9221, 0.3030],\n",
      "        [0.8473, 0.1765, 0.2533, 0.2288, 0.1250],\n",
      "        [0.2152, 0.8081, 0.6199, 0.8457, 0.7601],\n",
      "        [0.1309, 0.6831, 0.4846, 0.8295, 0.1366],\n",
      "        [0.2913, 0.4065, 0.3479, 0.6861, 0.7728]])\n",
      "<class 'torch.Tensor'>\n",
      "torch.float32\n"
     ]
    }
   ],
   "source": [
    "x = torch.rand(5, 5, dtype=torch.float32) \n",
    "# default dtype=torch.float32\n",
    "print(x)\n",
    "print(type(x))\n",
    "print(x.dtype)"
   ]
  },
  {
   "cell_type": "code",
   "execution_count": 3,
   "metadata": {},
   "outputs": [
    {
     "name": "stdout",
     "output_type": "stream",
     "text": [
      "tensor([[ 0.2809, -1.2618,  0.2254, -0.2534, -2.1605],\n",
      "        [-0.3782,  1.2336,  0.9535, -1.1543,  0.3770],\n",
      "        [ 0.4740, -0.5817, -0.7121,  0.1988, -0.8559],\n",
      "        [-0.2750, -2.7761, -2.6687, -0.7534,  0.1569],\n",
      "        [-1.1227,  0.0295,  0.5306,  0.7203,  1.5785]])\n",
      "<class 'torch.Tensor'>\n",
      "torch.float32\n"
     ]
    }
   ],
   "source": [
    "x = torch.randn(5, 5, dtype=torch.float32) \n",
    "# default dtype=torch.float32\n",
    "print(x)\n",
    "print(type(x))\n",
    "print(x.dtype)"
   ]
  },
  {
   "cell_type": "code",
   "execution_count": 4,
   "metadata": {},
   "outputs": [
    {
     "name": "stdout",
     "output_type": "stream",
     "text": [
      "tensor([[8., 8., 5., 7., 8.],\n",
      "        [8., 7., 5., 6., 6.],\n",
      "        [7., 7., 9., 5., 8.],\n",
      "        [6., 5., 9., 5., 8.],\n",
      "        [6., 7., 5., 7., 8.]])\n",
      "tensor([[59.,  9., 39., 38., 72.],\n",
      "        [66., 33., 82., 67., 78.],\n",
      "        [99., 83., 39., 35., 51.],\n",
      "        [28., 14., 49.,  7., 16.],\n",
      "        [24., 15., 36., 55.,  8.]])\n"
     ]
    }
   ],
   "source": [
    "x = torch.randint(5,10,(5,5), dtype=torch.float32) # low,high,(size)\n",
    "y = torch.randint(100,(5,5), dtype=torch.float32) \n",
    "# default dtype=torch.float32\n",
    "print(x)\n",
    "print(y)"
   ]
  },
  {
   "cell_type": "code",
   "execution_count": 5,
   "metadata": {},
   "outputs": [
    {
     "name": "stdout",
     "output_type": "stream",
     "text": [
      "tensor([7, 4, 8, 3, 5, 6, 2, 0, 1, 9])\n"
     ]
    }
   ],
   "source": [
    "x = torch.randperm(10)\n",
    "print(x)"
   ]
  },
  {
   "cell_type": "code",
   "execution_count": 6,
   "metadata": {},
   "outputs": [
    {
     "name": "stdout",
     "output_type": "stream",
     "text": [
      "tensor([[0., 0., 0.],\n",
      "        [0., 0., 0.],\n",
      "        [0., 0., 0.]])\n",
      "torch.float32\n"
     ]
    }
   ],
   "source": [
    "x = torch.zeros(3, 3)\n",
    "print(x)\n",
    "print(x.dtype)"
   ]
  },
  {
   "cell_type": "code",
   "execution_count": 7,
   "metadata": {},
   "outputs": [
    {
     "name": "stdout",
     "output_type": "stream",
     "text": [
      "tensor([[1., 1., 1.],\n",
      "        [1., 1., 1.],\n",
      "        [1., 1., 1.]])\n"
     ]
    }
   ],
   "source": [
    "x = torch.ones(3, 3)\n",
    "print(x)"
   ]
  },
  {
   "cell_type": "code",
   "execution_count": 8,
   "metadata": {},
   "outputs": [
    {
     "name": "stdout",
     "output_type": "stream",
     "text": [
      "tensor([[1., 0., 0.],\n",
      "        [0., 1., 0.],\n",
      "        [0., 0., 1.]])\n"
     ]
    }
   ],
   "source": [
    "x = torch.eye(3, 3)\n",
    "print(x)"
   ]
  },
  {
   "cell_type": "code",
   "execution_count": 9,
   "metadata": {},
   "outputs": [
    {
     "data": {
      "text/plain": [
       "9"
      ]
     },
     "execution_count": 9,
     "metadata": {},
     "output_type": "execute_result"
    }
   ],
   "source": [
    "torch.numel(x)"
   ]
  },
  {
   "cell_type": "code",
   "execution_count": 10,
   "metadata": {},
   "outputs": [
    {
     "data": {
      "text/plain": [
       "torch.float32"
      ]
     },
     "execution_count": 10,
     "metadata": {},
     "output_type": "execute_result"
    }
   ],
   "source": [
    "x.dtype"
   ]
  },
  {
   "cell_type": "code",
   "execution_count": 11,
   "metadata": {},
   "outputs": [
    {
     "data": {
      "text/plain": [
       "device(type='cpu')"
      ]
     },
     "execution_count": 11,
     "metadata": {},
     "output_type": "execute_result"
    }
   ],
   "source": [
    "x.device"
   ]
  },
  {
   "cell_type": "code",
   "execution_count": 12,
   "metadata": {},
   "outputs": [
    {
     "data": {
      "text/plain": [
       "False"
      ]
     },
     "execution_count": 12,
     "metadata": {},
     "output_type": "execute_result"
    }
   ],
   "source": [
    "x.requires_grad # If autograd should record operations on the returned tensor."
   ]
  },
  {
   "cell_type": "code",
   "execution_count": 13,
   "metadata": {},
   "outputs": [
    {
     "data": {
      "text/plain": [
       "tensor([[1., 0., 0.],\n",
       "        [0., 1., 0.],\n",
       "        [0., 0., 1.]], device='cuda:0')"
      ]
     },
     "execution_count": 13,
     "metadata": {},
     "output_type": "execute_result"
    }
   ],
   "source": [
    "x.to('cuda:0')"
   ]
  },
  {
   "cell_type": "code",
   "execution_count": 14,
   "metadata": {},
   "outputs": [
    {
     "name": "stdout",
     "output_type": "stream",
     "text": [
      "tensor([[8, 8],\n",
      "        [6, 6]])\n"
     ]
    }
   ],
   "source": [
    "x = torch.randint(2,10,(2,2))\n",
    "print(x)"
   ]
  },
  {
   "cell_type": "code",
   "execution_count": 15,
   "metadata": {},
   "outputs": [
    {
     "data": {
      "text/plain": [
       "tensor([[2980.9580, 2980.9580],\n",
       "        [ 403.4288,  403.4288]])"
      ]
     },
     "execution_count": 15,
     "metadata": {},
     "output_type": "execute_result"
    }
   ],
   "source": [
    "torch.exp(x.float())"
   ]
  },
  {
   "cell_type": "code",
   "execution_count": 16,
   "metadata": {},
   "outputs": [
    {
     "data": {
      "text/plain": [
       "tensor([8., 6.])"
      ]
     },
     "execution_count": 16,
     "metadata": {},
     "output_type": "execute_result"
    }
   ],
   "source": [
    "torch.mean(x.float(),axis=1)"
   ]
  },
  {
   "cell_type": "code",
   "execution_count": 17,
   "metadata": {},
   "outputs": [
    {
     "data": {
      "text/plain": [
       "tensor([7., 7.])"
      ]
     },
     "execution_count": 17,
     "metadata": {},
     "output_type": "execute_result"
    }
   ],
   "source": [
    "torch.mean(x.float(),axis=0)"
   ]
  },
  {
   "cell_type": "code",
   "execution_count": 18,
   "metadata": {},
   "outputs": [
    {
     "data": {
      "text/plain": [
       "tensor([1.4142, 1.4142])"
      ]
     },
     "execution_count": 18,
     "metadata": {},
     "output_type": "execute_result"
    }
   ],
   "source": [
    "torch.std(x.float(),axis=0)"
   ]
  },
  {
   "cell_type": "code",
   "execution_count": 19,
   "metadata": {},
   "outputs": [
    {
     "name": "stdout",
     "output_type": "stream",
     "text": [
      "tensor([0, 5, 2, 9, 6, 1, 7, 3, 8, 4])\n"
     ]
    },
    {
     "data": {
      "text/plain": [
       "tensor([ 0,  5,  7, 16, 22, 23, 30, 33, 41, 45])"
      ]
     },
     "execution_count": 19,
     "metadata": {},
     "output_type": "execute_result"
    }
   ],
   "source": [
    "x = torch.randperm(10)\n",
    "print(x)\n",
    "torch.cumsum(x, dim=0)"
   ]
  },
  {
   "cell_type": "code",
   "execution_count": 20,
   "metadata": {},
   "outputs": [
    {
     "name": "stdout",
     "output_type": "stream",
     "text": [
      "tensor([[13, 20],\n",
      "        [39,  9]])\n"
     ]
    },
    {
     "data": {
      "text/plain": [
       "tensor([[13, 20],\n",
       "        [52, 29]])"
      ]
     },
     "execution_count": 20,
     "metadata": {},
     "output_type": "execute_result"
    }
   ],
   "source": [
    "x = torch.randint(3,40,(2,2))\n",
    "print(x)\n",
    "torch.cumsum(x, dim=0)"
   ]
  },
  {
   "cell_type": "code",
   "execution_count": 21,
   "metadata": {},
   "outputs": [
    {
     "data": {
      "text/plain": [
       "torch.Size([4, 4])"
      ]
     },
     "execution_count": 21,
     "metadata": {},
     "output_type": "execute_result"
    }
   ],
   "source": [
    "x = torch.randint(3,40,(4,4))\n",
    "x.size()"
   ]
  },
  {
   "cell_type": "code",
   "execution_count": 22,
   "metadata": {},
   "outputs": [
    {
     "data": {
      "text/plain": [
       "tensor([[27, 25],\n",
       "        [33, 34],\n",
       "        [20, 13],\n",
       "        [32, 34],\n",
       "        [29, 32],\n",
       "        [14, 19],\n",
       "        [13, 26],\n",
       "        [36, 18]])"
      ]
     },
     "execution_count": 22,
     "metadata": {},
     "output_type": "execute_result"
    }
   ],
   "source": [
    "x.view(8,2)"
   ]
  },
  {
   "cell_type": "code",
   "execution_count": 23,
   "metadata": {},
   "outputs": [
    {
     "data": {
      "text/plain": [
       "tensor([27, 25, 33, 34, 20, 13, 32, 34, 29, 32, 14, 19, 13, 26, 36, 18])"
      ]
     },
     "execution_count": 23,
     "metadata": {},
     "output_type": "execute_result"
    }
   ],
   "source": [
    "x.view(-1)"
   ]
  },
  {
   "cell_type": "code",
   "execution_count": 24,
   "metadata": {},
   "outputs": [
    {
     "data": {
      "text/plain": [
       "tensor([[27, 25, 33, 34, 20, 13, 32, 34],\n",
       "        [29, 32, 14, 19, 13, 26, 36, 18]])"
      ]
     },
     "execution_count": 24,
     "metadata": {},
     "output_type": "execute_result"
    }
   ],
   "source": [
    "x.view(2,8) #share"
   ]
  },
  {
   "cell_type": "code",
   "execution_count": 25,
   "metadata": {},
   "outputs": [
    {
     "data": {
      "text/plain": [
       "tensor([[27, 25, 33, 34, 20, 13, 32, 34],\n",
       "        [29, 32, 14, 19, 13, 26, 36, 18]])"
      ]
     },
     "execution_count": 25,
     "metadata": {},
     "output_type": "execute_result"
    }
   ],
   "source": [
    "x.view(2,8) #share or copy"
   ]
  },
  {
   "cell_type": "code",
   "execution_count": 26,
   "metadata": {},
   "outputs": [
    {
     "name": "stdout",
     "output_type": "stream",
     "text": [
      "tensor([[19, 17],\n",
      "        [19, 13]])\n",
      "tensor([[27, 15],\n",
      "        [10, 22]])\n"
     ]
    }
   ],
   "source": [
    "x = torch.randint(3,40,(2,2))\n",
    "y = torch.randint(3,40,(2,2))\n",
    "print(x)\n",
    "print(y)"
   ]
  },
  {
   "cell_type": "code",
   "execution_count": 27,
   "metadata": {},
   "outputs": [
    {
     "name": "stdout",
     "output_type": "stream",
     "text": [
      "tensor([[46, 32],\n",
      "        [29, 35]])\n",
      "tensor([[46, 32],\n",
      "        [29, 35]])\n"
     ]
    }
   ],
   "source": [
    "print(torch.add(x,y))\n",
    "print(x.add(y))"
   ]
  },
  {
   "cell_type": "code",
   "execution_count": 28,
   "metadata": {},
   "outputs": [
    {
     "name": "stdout",
     "output_type": "stream",
     "text": [
      "tensor([[-8,  2],\n",
      "        [ 9, -9]])\n",
      "tensor([[513, 255],\n",
      "        [190, 286]])\n",
      "tensor([[0.7037, 1.1333],\n",
      "        [1.9000, 0.5909]])\n"
     ]
    }
   ],
   "source": [
    "print(torch.sub(x,y))\n",
    "print(torch.mul(x,y))\n",
    "print(torch.div(x.float(),y.float()))"
   ]
  },
  {
   "cell_type": "code",
   "execution_count": 29,
   "metadata": {},
   "outputs": [
    {
     "name": "stdout",
     "output_type": "stream",
     "text": [
      "tensor([[35, 25],\n",
      "        [39, 35]])\n",
      "tensor([[62, 40],\n",
      "        [49, 57]])\n",
      "tensor([[35, 25],\n",
      "        [39, 35]])\n"
     ]
    }
   ],
   "source": [
    "x = torch.randint(3,40,(2,2))\n",
    "print(x)\n",
    "print(x.add(y))\n",
    "print(x)"
   ]
  },
  {
   "cell_type": "code",
   "execution_count": 30,
   "metadata": {},
   "outputs": [
    {
     "name": "stdout",
     "output_type": "stream",
     "text": [
      "tensor([[33, 10],\n",
      "        [33, 17]])\n",
      "tensor([[60, 25],\n",
      "        [43, 39]])\n",
      "tensor([[60, 25],\n",
      "        [43, 39]])\n"
     ]
    }
   ],
   "source": [
    "x = torch.randint(3,40,(2,2))\n",
    "print(x)\n",
    "print(x.add_(y))\n",
    "print(x)"
   ]
  },
  {
   "cell_type": "code",
   "execution_count": null,
   "metadata": {},
   "outputs": [],
   "source": []
  }
 ],
 "metadata": {
  "kernelspec": {
   "display_name": "Python 3",
   "language": "python",
   "name": "python3"
  },
  "language_info": {
   "codemirror_mode": {
    "name": "ipython",
    "version": 3
   },
   "file_extension": ".py",
   "mimetype": "text/x-python",
   "name": "python",
   "nbconvert_exporter": "python",
   "pygments_lexer": "ipython3",
   "version": "3.6.9"
  }
 },
 "nbformat": 4,
 "nbformat_minor": 4
}
