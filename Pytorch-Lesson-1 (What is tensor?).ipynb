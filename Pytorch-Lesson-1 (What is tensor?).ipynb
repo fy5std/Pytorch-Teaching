{
 "cells": [
  {
   "cell_type": "markdown",
   "metadata": {},
   "source": [
    "<h1 style=\"color:rgb(0, 0, 0);\">Pytorch Lesson-1</h1> \n",
    "\n",
    "<h3 style=\"color:rgb(0, 0, 255);\">What is tensor?</h3> \n",
    "\n",
    "<img src=\"images/pytorch.jpg\" style=\"width:400px;height:200px\">\n",
    "\n",
    "We will learn the following definitions:\n",
    "\n",
    "* <h3 style=\"color:rgb(255, 0, 0); font-size:125%;\"  >Scalar</h3> \n",
    "\n",
    "    In linear algebra, real numbers are called scalars.\n",
    "\n",
    "* <h3 style=\"color:rgb(255, 0, 0); font-size:125%;\">Vector</h3> \n",
    "\n",
    "    A vector is a one-dimensional or first order tensor.\n",
    "\n",
    "* <h3 style=\"color:rgb(255, 0, 0); font-size:125%;\">Matrix</h3> \n",
    "\n",
    "    A matrix is a two-dimensional or second order tensor.\n",
    "\n",
    "* <h3 style=\"color:rgb(255, 0, 0); font-size:125%;\">Tensor</h3> \n",
    "\n",
    "    A tensor is a generalization of vectors and matrices and is easily understood as a multidimensional array. \n",
    "\n",
    "\n",
    "<p> <i> Good Luck !!! &#128525;</i> </p> \n"
   ]
  },
  {
   "cell_type": "markdown",
   "metadata": {},
   "source": [
    "### Python"
   ]
  },
  {
   "cell_type": "code",
   "execution_count": 1,
   "metadata": {},
   "outputs": [
    {
     "name": "stdout",
     "output_type": "stream",
     "text": [
      "2\n",
      "<class 'int'>\n"
     ]
    }
   ],
   "source": [
    "scalar = 2\n",
    "print(scalar)\n",
    "print(type(scalar))"
   ]
  },
  {
   "cell_type": "code",
   "execution_count": 2,
   "metadata": {},
   "outputs": [
    {
     "name": "stdout",
     "output_type": "stream",
     "text": [
      "[1, 2, 3]\n",
      "<class 'list'>\n"
     ]
    }
   ],
   "source": [
    "vector = [1,2,3]\n",
    "print(vector)\n",
    "print(type(vector))"
   ]
  },
  {
   "cell_type": "code",
   "execution_count": 3,
   "metadata": {},
   "outputs": [
    {
     "name": "stdout",
     "output_type": "stream",
     "text": [
      "[[1, 2, 3], [4, 5, 6], [7, 8, 9]]\n",
      "<class 'list'>\n"
     ]
    }
   ],
   "source": [
    "matrix = [[1,2,3],\n",
    "          [4,5,6],\n",
    "          [7,8,9]]\n",
    "print(matrix)\n",
    "print(type(matrix))"
   ]
  },
  {
   "cell_type": "code",
   "execution_count": 4,
   "metadata": {},
   "outputs": [
    {
     "name": "stdout",
     "output_type": "stream",
     "text": [
      "[[[1, 2, 3], [4, 5, 6], [7, 8, 9]], [[11, 12, 13], [14, 15, 16], [17, 18, 19]], [[21, 22, 23], [24, 25, 26], [27, 28, 29]]]\n",
      "<class 'list'>\n"
     ]
    },
    {
     "data": {
      "text/plain": [
       "1"
      ]
     },
     "execution_count": 4,
     "metadata": {},
     "output_type": "execute_result"
    }
   ],
   "source": [
    "tensor = [\n",
    "  [[1,2,3],    [4,5,6],    [7,8,9]],\n",
    "  [[11,12,13], [14,15,16], [17,18,19]],\n",
    "  [[21,22,23], [24,25,26], [27,28,29]],\n",
    "  ]\n",
    "print(tensor)\n",
    "print(type(tensor))\n",
    "tensor[0][0][0]"
   ]
  },
  {
   "cell_type": "markdown",
   "metadata": {},
   "source": [
    "### Numpy"
   ]
  },
  {
   "cell_type": "code",
   "execution_count": 5,
   "metadata": {},
   "outputs": [
    {
     "name": "stdout",
     "output_type": "stream",
     "text": [
      "1\n",
      "<class 'numpy.ndarray'>\n",
      "()\n"
     ]
    }
   ],
   "source": [
    "import numpy as np\n",
    "numpy_scalar = np.array(1)\n",
    "print(numpy_scalar)\n",
    "print(type(numpy_scalar))\n",
    "print(numpy_scalar.shape)"
   ]
  },
  {
   "cell_type": "code",
   "execution_count": 6,
   "metadata": {},
   "outputs": [
    {
     "name": "stdout",
     "output_type": "stream",
     "text": [
      "[1 2 3]\n",
      "<class 'numpy.ndarray'>\n",
      "(3,)\n"
     ]
    }
   ],
   "source": [
    "numpy_vector = np.array([1, 2, 3])\n",
    "print(numpy_vector)\n",
    "print(type(numpy_vector))\n",
    "print(numpy_vector.shape)"
   ]
  },
  {
   "cell_type": "code",
   "execution_count": 7,
   "metadata": {},
   "outputs": [
    {
     "name": "stdout",
     "output_type": "stream",
     "text": [
      "[[1 2 3]\n",
      " [4 5 6]\n",
      " [7 8 9]]\n",
      "<class 'numpy.ndarray'>\n",
      "(3, 3)\n"
     ]
    }
   ],
   "source": [
    "numpy_matrix = np.array([[1,2,3],\n",
    "                         [4,5,6],\n",
    "                         [7,8,9]])\n",
    "print(numpy_matrix)\n",
    "print(type(numpy_matrix))\n",
    "print(numpy_matrix.shape)"
   ]
  },
  {
   "cell_type": "code",
   "execution_count": 8,
   "metadata": {},
   "outputs": [
    {
     "name": "stdout",
     "output_type": "stream",
     "text": [
      "[[[ 1  2  3]\n",
      "  [ 4  5  6]\n",
      "  [ 7  8  9]]\n",
      "\n",
      " [[11 12 13]\n",
      "  [14 15 16]\n",
      "  [17 18 19]]\n",
      "\n",
      " [[21 22 23]\n",
      "  [24 25 26]\n",
      "  [27 28 29]]]\n",
      "<class 'numpy.ndarray'>\n",
      "(3, 3, 3)\n"
     ]
    }
   ],
   "source": [
    "numpy_tensor = np.array([\n",
    "  [[1,2,3],    [4,5,6],    [7,8,9]],\n",
    "  [[11,12,13], [14,15,16], [17,18,19]],\n",
    "  [[21,22,23], [24,25,26], [27,28,29]],\n",
    "  ])\n",
    "print(numpy_tensor)\n",
    "print(type(numpy_tensor))\n",
    "print(numpy_tensor.shape)"
   ]
  },
  {
   "cell_type": "markdown",
   "metadata": {},
   "source": [
    "### Pytorch"
   ]
  },
  {
   "cell_type": "code",
   "execution_count": 10,
   "metadata": {},
   "outputs": [
    {
     "name": "stdout",
     "output_type": "stream",
     "text": [
      "tensor([[[ 1,  2,  3],\n",
      "         [ 4,  5,  6],\n",
      "         [ 7,  8,  9]],\n",
      "\n",
      "        [[11, 12, 13],\n",
      "         [14, 15, 16],\n",
      "         [17, 18, 19]],\n",
      "\n",
      "        [[21, 22, 23],\n",
      "         [24, 25, 26],\n",
      "         [27, 28, 29]]])\n",
      "<class 'torch.Tensor'>\n",
      "torch.Size([3, 3, 3])\n"
     ]
    }
   ],
   "source": [
    "import torch\n",
    "tensor = torch.tensor([\n",
    "  [[1,2,3],    [4,5,6],    [7,8,9]],\n",
    "  [[11,12,13], [14,15,16], [17,18,19]],\n",
    "  [[21,22,23], [24,25,26], [27,28,29]],\n",
    "  ])\n",
    "print(tensor)\n",
    "print(type(tensor))\n",
    "print(tensor.shape)"
   ]
  },
  {
   "cell_type": "markdown",
   "metadata": {},
   "source": [
    "## input image data for training model \n",
    "image data shape = [batch_size, channel, height, width] \n",
    "                 \n",
    "                  = [8 3 224 224]"
   ]
  },
  {
   "cell_type": "code",
   "execution_count": null,
   "metadata": {},
   "outputs": [],
   "source": []
  }
 ],
 "metadata": {
  "kernelspec": {
   "display_name": "Python 3",
   "language": "python",
   "name": "python3"
  },
  "language_info": {
   "codemirror_mode": {
    "name": "ipython",
    "version": 3
   },
   "file_extension": ".py",
   "mimetype": "text/x-python",
   "name": "python",
   "nbconvert_exporter": "python",
   "pygments_lexer": "ipython3",
   "version": "3.6.9"
  }
 },
 "nbformat": 4,
 "nbformat_minor": 4
}
